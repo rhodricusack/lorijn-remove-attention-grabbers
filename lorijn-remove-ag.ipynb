{
 "cells": [
  {
   "cell_type": "code",
   "execution_count": 21,
   "metadata": {},
   "outputs": [
    {
     "name": "stdout",
     "output_type": "stream",
     "text": [
      "*** \"#file:///C:/Users/Nicole McDermott/Desktop/VideoTagging/emma_kurento_U6BaF_e1668460950618.mp4 -- offset: 0, duration: 00:01:38.390 / 98.390 / 98390, ms per sample: 34.48617825709682\"\n",
      "[]\n",
      "*** distractor\n",
      "tag 42901.0 to 51250.0 dur_raw 8349.0 dur_adjusted 8349.0\n",
      "[8349.0]\n",
      "*** look_away\n",
      "tag 0.0 to 831.0 dur_raw 831.0 dur_adjusted 0\n",
      "tag 1722.0 to 3932.0 dur_raw 2210.0 dur_adjusted 932.0\n",
      "tag 8190.0 to 9930.0 dur_raw 1740.0 dur_adjusted 1740.0\n",
      "tag 44134.0 to 94082.0 dur_raw 49948.0 dur_adjusted 46948.0\n",
      "tag 95278.0 to 97132.0 dur_raw 1854.0 dur_adjusted 1854.0\n",
      "[0, 932.0, 1740.0, 46948.0, 1854.0]\n",
      "*** look_screen\n",
      "tag 831.0 to 1722.0 dur_raw 891.0 dur_adjusted 0\n",
      "tag 2000.0 to 3100.0 dur_raw 1100.0 dur_adjusted 100.0\n",
      "tag 3932.0 to 8190.0 dur_raw 4258.0 dur_adjusted 4258.0\n",
      "tag 9930.0 to 44134.0 dur_raw 34204.0 dur_adjusted 31204.0\n",
      "tag 94082.0 to 95278.0 dur_raw 1196.0 dur_adjusted 1196.0\n",
      "tag 97132.0 to 97861.0 dur_raw 729.0 dur_adjusted 729.0\n",
      "[0, 100.0, 4258.0, 31204.0, 1196.0, 729.0]\n"
     ]
    }
   ],
   "source": [
    "import pandas as pd\n",
    "import numpy as np\n",
    "\n",
    "def remove_ag(tags_in, ag_list):\n",
    "    dur_not_ag_list =[] \n",
    "    for index, tag  in tags_in.iterrows():\n",
    "        if not np.isnan(tag['start']):\n",
    "            dur_not_ag = tag['end']-tag['start']\n",
    "            for ag in ag_list:\n",
    "                if ag[1]> tag['start'] and ag[0]<tag['end']: # some overlap between ag and tag\n",
    "                    if ag[0]<=tag['start']  and ag[1]>=tag['end']:  # ag envelops tag\n",
    "                        dur_not_ag = 0\n",
    "                    elif ag[0]< tag['start'] and ag[1] < tag['end']:    # ag starts before tag and ends during\n",
    "                        dur_not_ag -= ag[1] - tag['start'] \n",
    "                    elif ag[0]>tag['start'] and ag[1]<tag['end']:  # ag is in the middle\n",
    "                        dur_not_ag -= ag[1] - ag[0]\n",
    "                    elif ag[0]> tag['start'] and ag[1] > tag['end']:      # ag starts during tag and ends after\n",
    "                        dur_not_ag -=  tag['start'] - ag[0] \n",
    "                    else:\n",
    "                        print(f\"error tag {tag['start']} to {tag['end']} and ag {ag[0]} to {ag[1]}\")\n",
    "            dur_not_ag_list.append(dur_not_ag)\n",
    "            print(f\"tag {tag['start']} to {tag['end']} dur_raw {tag['end']-tag['start']} dur_adjusted {dur_not_ag}\")\n",
    "    return dur_not_ag_list\n",
    "\n",
    "df = pd.read_csv('test_file_remove_attgrab.csv')\n",
    "df = df.rename(columns = {'0':'tag','3':'start', '5':'end', '7':'duration'})\n",
    "# start and end times of attention grabbers in ms\n",
    "ag_list = [[0,3000], [33000,36000], [66000,69000]] \n",
    "\n",
    "#print(df)\n",
    "for ind, (tag, group) in enumerate(df.groupby('tag')):\n",
    "    print(f'*** {tag}')\n",
    "    print(remove_ag(group[['start','end']], ag_list))\n"
   ]
  }
 ],
 "metadata": {
  "kernelspec": {
   "display_name": ".venv",
   "language": "python",
   "name": "python3"
  },
  "language_info": {
   "codemirror_mode": {
    "name": "ipython",
    "version": 3
   },
   "file_extension": ".py",
   "mimetype": "text/x-python",
   "name": "python",
   "nbconvert_exporter": "python",
   "pygments_lexer": "ipython3",
   "version": "3.8.10"
  }
 },
 "nbformat": 4,
 "nbformat_minor": 2
}
